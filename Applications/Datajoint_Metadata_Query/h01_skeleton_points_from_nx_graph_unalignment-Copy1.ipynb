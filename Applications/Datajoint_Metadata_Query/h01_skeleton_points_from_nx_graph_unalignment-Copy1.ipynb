{
 "cells": [
  {
   "cell_type": "code",
   "execution_count": 1,
   "id": "9ea1fe79-7feb-4dac-9bbd-a1992529d4ac",
   "metadata": {},
   "outputs": [
    {
     "data": {
      "text/plain": [
       "'\\nPurpose:\\n--------\\nDemonstrate how to query the h01 c2 datajoint data products\\nusing the modularized API class\\n'"
      ]
     },
     "execution_count": 1,
     "metadata": {},
     "output_type": "execute_result"
    }
   ],
   "source": [
    "\"\"\"\n",
    "Purpose:\n",
    "--------\n",
    "Demonstrate how to query the h01 c2 datajoint data products\n",
    "using the modularized API class\n",
    "\"\"\""
   ]
  },
  {
   "cell_type": "code",
   "execution_count": 2,
   "id": "984d6dcf-1eeb-4083-bd56-88f92efd8a76",
   "metadata": {},
   "outputs": [],
   "source": [
    "%load_ext autoreload\n",
    "%autoreload 2"
   ]
  },
  {
   "cell_type": "code",
   "execution_count": 3,
   "id": "3508a2f6-bc2d-436f-a075-a7b530322c82",
   "metadata": {},
   "outputs": [],
   "source": [
    "import connects_neuvue"
   ]
  },
  {
   "cell_type": "markdown",
   "id": "ad93f8fa-3597-4701-bff1-5dcaa9b5ffb9",
   "metadata": {},
   "source": [
    "# Step 1: Import API and configure API object with aws secret"
   ]
  },
  {
   "cell_type": "code",
   "execution_count": 4,
   "id": "bf523e93-3429-4f7e-af19-9bd249e0a2de",
   "metadata": {},
   "outputs": [],
   "source": [
    "from connects_neuvue.utils import aws_utils as aws\n",
    "secret_dict = aws.get_secret()"
   ]
  },
  {
   "cell_type": "code",
   "execution_count": 5,
   "id": "d55f742a-32c8-49ad-bc6e-337c4390af67",
   "metadata": {},
   "outputs": [
    {
     "name": "stderr",
     "output_type": "stream",
     "text": [
      "/usr/local/lib/python3.8/dist-packages/python_jsonschema_objects/__init__.py:113: UserWarning: Schema id not specified. Defaulting to 'self'\n",
      "  warnings.warn(\"Schema id not specified. Defaulting to 'self'\")\n",
      "[2025-05-09 19:59:15,793][INFO]: Connecting admin@neurd-datajoint.cluster-cjc6cqmcqirl.us-east-1.rds.amazonaws.com:3306\n",
      "INFO - 2025-05-09 19:59:15,793 - connection - Connecting admin@neurd-datajoint.cluster-cjc6cqmcqirl.us-east-1.rds.amazonaws.com:3306\n",
      "[2025-05-09 19:59:16,410][INFO]: Connected admin@neurd-datajoint.cluster-cjc6cqmcqirl.us-east-1.rds.amazonaws.com:3306\n",
      "INFO - 2025-05-09 19:59:16,410 - connection - Connected admin@neurd-datajoint.cluster-cjc6cqmcqirl.us-east-1.rds.amazonaws.com:3306\n"
     ]
    },
    {
     "data": {
      "text/plain": [
       "<connects_neuvue.h01_c2.api.API at 0x7ff60cae5d60>"
      ]
     },
     "execution_count": 5,
     "metadata": {},
     "output_type": "execute_result"
    }
   ],
   "source": [
    "from connects_neuvue.h01_c2 import api\n",
    "fetcher = api.API(secret_dict=secret_dict)\n",
    "fetcher"
   ]
  },
  {
   "cell_type": "markdown",
   "id": "4032a33b-3ce7-4159-bac5-2e4af77d2b96",
   "metadata": {},
   "source": [
    "# Application 0: Fetch soma features"
   ]
  },
  {
   "cell_type": "code",
   "execution_count": 9,
   "id": "cb6cbb5d-700f-4777-8095-ddad5dc7d4ae",
   "metadata": {},
   "outputs": [],
   "source": [
    "import numpy as np"
   ]
  },
  {
   "cell_type": "code",
   "execution_count": 10,
   "id": "14aec1af-e762-4ffc-a56a-fb817b5e47b9",
   "metadata": {},
   "outputs": [],
   "source": [
    "segment_id = 28059648040\n",
    "key = dict(segment_id=segment_id)"
   ]
  },
  {
   "cell_type": "code",
   "execution_count": 11,
   "id": "e6b50a59-c986-406e-86b1-ac8d80b4bb01",
   "metadata": {},
   "outputs": [
    {
     "data": {
      "text/plain": [
       "array([307623,  74465,   5038])"
      ]
     },
     "execution_count": 11,
     "metadata": {},
     "output_type": "execute_result"
    }
   ],
   "source": [
    "soma_center = fetcher.fetch_soma_center(segment_id)\n",
    "soma_center"
   ]
  },
  {
   "cell_type": "code",
   "execution_count": 12,
   "id": "e9168960-7621-4640-b6dc-28cbab6476a6",
   "metadata": {},
   "outputs": [
    {
     "data": {
      "text/plain": [
       "array([2460984,  595720,  166254])"
      ]
     },
     "execution_count": 12,
     "metadata": {},
     "output_type": "execute_result"
    }
   ],
   "source": [
    "soma_center_nm = soma_center*np.array([8,8,33])\n",
    "soma_center_nm"
   ]
  },
  {
   "cell_type": "code",
   "execution_count": 13,
   "id": "b78090e5-fc21-432d-8c15-cce63834118e",
   "metadata": {},
   "outputs": [],
   "source": [
    "mesh = fetcher.fetch_segment_id_mesh(**key)"
   ]
  },
  {
   "cell_type": "markdown",
   "id": "bdc65cdd-47ca-4853-bd8c-50a365b82c77",
   "metadata": {},
   "source": [
    "# Application 1: Fetch neuron branch level nx object (and proofread skeleton/mesh for checking)"
   ]
  },
  {
   "cell_type": "code",
   "execution_count": 14,
   "id": "9f83be6a-9904-411e-97c7-dfebeebea36d",
   "metadata": {},
   "outputs": [],
   "source": [
    "decimated_mesh = mesh"
   ]
  },
  {
   "cell_type": "code",
   "execution_count": 15,
   "id": "271246dd-0438-4f7a-89f9-373177ad9600",
   "metadata": {},
   "outputs": [
    {
     "data": {
      "text/plain": [
       "<networkx.classes.digraph.DiGraph at 0x7ff54287e040>"
      ]
     },
     "execution_count": 15,
     "metadata": {},
     "output_type": "execute_result"
    }
   ],
   "source": [
    "G = fetcher.nx_graph_autoproof_from_segment_id(segment_id) \n",
    "G"
   ]
  },
  {
   "cell_type": "code",
   "execution_count": 16,
   "id": "4e083a02-937d-4642-a7dd-b31ad35c5b8b",
   "metadata": {},
   "outputs": [
    {
     "data": {
      "text/plain": [
       "array([[[2344241.48962724,  634513.57222932,   52854.01347651],\n",
       "        [2344238.96838124,  634585.39013966,   52923.55207096]],\n",
       "\n",
       "       [[2344238.96838124,  634585.39013966,   52923.55207096],\n",
       "        [2344235.9268238 ,  634657.9428046 ,   52992.30150115]],\n",
       "\n",
       "       [[2344235.9268238 ,  634657.9428046 ,   52992.30150115],\n",
       "        [2344232.61253489,  634731.2233965 ,   53060.26338527]],\n",
       "\n",
       "       ...,\n",
       "\n",
       "       [[2460991.33907114,  595720.73449779,  166270.89436701],\n",
       "        [2467125.65441176,  588096.49264706,  170861.40073529]],\n",
       "\n",
       "       [[2460991.33907114,  595720.73449779,  166270.89436701],\n",
       "        [2447940.        ,  591132.        ,  162541.        ]],\n",
       "\n",
       "       [[2460991.33907114,  595720.73449779,  166270.89436701],\n",
       "        [2465780.        ,  591541.6       ,  173977.3       ]]])"
      ]
     },
     "execution_count": 16,
     "metadata": {},
     "output_type": "execute_result"
    }
   ],
   "source": [
    "# fetch proofread mesh and skeleton to spot check\n",
    "proofread_mesh = fetcher.fetch_proofread_mesh(\n",
    "    original_mesh = decimated_mesh,\n",
    "    **key)\n",
    "proofread_mesh\n",
    "\n",
    "proofread_skeleton = fetcher.fetch_proofread_skeleton(\n",
    "    **key)\n",
    "proofread_skeleton"
   ]
  },
  {
   "cell_type": "markdown",
   "id": "116d33d6-9824-40f2-8154-345cf89e6255",
   "metadata": {},
   "source": [
    "# Unalignment of skeleton vertices"
   ]
  },
  {
   "cell_type": "markdown",
   "id": "124a58fc-d666-4f25-a37f-6ce4766084d4",
   "metadata": {},
   "source": [
    "## Utiity functions"
   ]
  },
  {
   "cell_type": "code",
   "execution_count": 17,
   "id": "0fe84205-144e-457a-a358-0716588be786",
   "metadata": {},
   "outputs": [],
   "source": [
    "import numpy as np"
   ]
  },
  {
   "cell_type": "code",
   "execution_count": 18,
   "id": "472a897e-a1fa-4587-921f-55aa71b1b233",
   "metadata": {},
   "outputs": [],
   "source": [
    "##############################################################################################################\n",
    "# Linear Algebra Utility Functions\n",
    "##############################################################################################################\n",
    "def projection(\n",
    "    vector_to_project,\n",
    "    line_of_projection,\n",
    "    idx_for_projection=None,\n",
    "    verbose = False,\n",
    "    return_magnitude = False):\n",
    "    \n",
    "    \"\"\"\n",
    "    Purpose: Will find the projection of a vector onto a line\n",
    "    \"\"\"\n",
    "    \n",
    "    line_of_projection = np.array(line_of_projection)\n",
    "    vector_to_project = np.array(vector_to_project)\n",
    "    \n",
    "    if idx_for_projection is not None:\n",
    "        vector_to_project = vector_to_project[idx_for_projection]\n",
    "        line_of_projection = line_of_projection[idx_for_projection]\n",
    "        \n",
    "    #2) Find the magnitude of projection of new point onto upward middle vector non scaled\n",
    "    magn = (vector_to_project@line_of_projection)/(\n",
    "            line_of_projection@line_of_projection)\n",
    "    proj_v = magn*line_of_projection\n",
    "    \n",
    "    if verbose:\n",
    "        print(f\"magn = {magn}\")\n",
    "        print(f\"proj_v = {proj_v}\")\n",
    "        \n",
    "    if return_magnitude:\n",
    "        return proj_v,magn\n",
    "    else:\n",
    "        return proj_v\n",
    "    \n",
    "def error_from_projection(\n",
    "    vector_to_project,\n",
    "    line_of_projection,\n",
    "    idx_for_projection=None,\n",
    "    verbose = False,):\n",
    "    \n",
    "    \"\"\"\n",
    "    Purpose: To return the error vector of a projection\n",
    "    \n",
    "    Ex: \n",
    "    \n",
    "    error_from_projection(\n",
    "    vector_to_project=orienting_coords[\"top_left\"],\n",
    "    line_of_projection = hu.upward_vector_middle_non_scaled,\n",
    "    verbose = True,\n",
    "    idx_for_projection=np.arange(0,2)\n",
    "    )\n",
    "    \"\"\"\n",
    "    \n",
    "    proj_v = projection(\n",
    "    vector_to_project=vector_to_project,\n",
    "    line_of_projection=line_of_projection,\n",
    "    idx_for_projection=idx_for_projection,\n",
    "    verbose = verbose,\n",
    "    return_magnitude = False)\n",
    "    \n",
    "    if idx_for_projection is not None:\n",
    "        error_proj = vector_to_project[idx_for_projection] - proj_v\n",
    "    else:\n",
    "        error_proj = vector_to_project - proj_v\n",
    "    \n",
    "    if verbose:\n",
    "        print(f\"error_proj = {error_proj}\")\n",
    "        \n",
    "    return error_proj\n",
    "\n",
    "def perpendicular_vec_2D(vec):\n",
    "    return np.array([vec[1],-vec[0]])\n",
    "\n",
    "def rotation_matrix_2D(angle):\n",
    "    theta = np.radians(angle)\n",
    "    r = np.array(( (np.cos(theta), -np.sin(theta)),\n",
    "               (np.sin(theta),  np.cos(theta)) ))\n",
    "    return r"
   ]
  },
  {
   "cell_type": "code",
   "execution_count": 19,
   "id": "30ce7caa-3f28-43b8-8269-87215265e517",
   "metadata": {},
   "outputs": [],
   "source": [
    "##############################################################################################################\n",
    "# H01 Utility Functions\n",
    "##############################################################################################################\n",
    "\n",
    "voxel_to_nm_scaling = np.array([8,8,33])\n",
    "source = \"h01\"\n",
    "current_nucleus_version = 0\n",
    "# -------------- Functions for finding the rotation matrix needed -------\n",
    "top_radius =700_000 #when magn = 1\n",
    "bottom_radius = 350_000 #when magn = 0\n",
    "max_rotation_global = -30\n",
    "upward_vector_middle = np.array([ 0.94034618, -0.34021915,  0.        ])\n",
    "upward_vector_middle_non_scaled = np.array([1808188.88892619, -654206.39541785,       0.        ])\n",
    "upward_vector_start_point = np.array([1041738.17659344, 1785911.29763922,  125032.57443884])\n",
    "align_vector = np.array([ 0.85082648, -0.52544676,  0.        ])\n",
    "upward_vector_top_left = np.array([])\n",
    "\n",
    "verbose = True\n",
    "\n",
    "\n",
    "def radius_for_rotation_from_proj_magn(magn):\n",
    "    return (top_radius-bottom_radius)*magn + bottom_radius\n",
    "\n",
    "def rotation_from_proj_error_and_radius(\n",
    "    proj_error,\n",
    "    radius_for_rotation,\n",
    "    max_rotation = max_rotation_global,\n",
    "    verbose = False\n",
    "    ):\n",
    "    \"\"\"\n",
    "    Purpose: To calculate the amount of rotation necessary \n",
    "    based on the current radius of rotation and error\n",
    "    magnitude of the projection\n",
    "    \n",
    "    \"\"\"\n",
    "    magn_err = np.linalg.norm(proj_error)\n",
    "    if verbose:\n",
    "        print(f\"magn_err = {magn_err}\")\n",
    "        \n",
    "    rotation = max_rotation*(magn_err/radius_for_rotation)\n",
    "    \n",
    "    if verbose:\n",
    "        print(f\"rotation = {rotation} (max_rotation = {max_rotation})\")\n",
    "        \n",
    "    return rotation\n",
    "    \n",
    "def rotation_signed_from_middle_vector(\n",
    "    coordinate,\n",
    "    origin_coordinate=upward_vector_start_point,\n",
    "    middle_vector = upward_vector_middle_non_scaled,\n",
    "    zero_out_z_coord = True,\n",
    "    verbose = False,\n",
    "    ):\n",
    "    \"\"\"\n",
    "    Purpose: Determine the direction\n",
    "    and amount of rotation needed for a \n",
    "    neuron based on the location of the soma\n",
    "\n",
    "    Pseudocode: \n",
    "    1) Compute the new relative vector to starting vector\n",
    "    2) Find the magnitude of projection of new point onto upward middle vector non scaled\n",
    "    3) Use the magnitude of the projection to find the slope of the rotation function\n",
    "    4) Find the error distance between point and projection distance\n",
    "    5) Determine the amount of rotation needed based on radius and error projection magnitude\n",
    "    6) Determine the sign of the rotation\n",
    "    \n",
    "    Ex: \n",
    "    rotation_signed_from_middle_vector(\n",
    "    coordinate = orienting_coords[\"bottom_far_right\"],\n",
    "        verbose = True\n",
    "    )\n",
    "    \"\"\"\n",
    "    #print(f\"verbose rotation_signed_from_middle_vector = {verbose}\")\n",
    "    #1) Compute the new relative vector to starting vector\n",
    "    v = coordinate - origin_coordinate\n",
    "    m = middle_vector\n",
    "\n",
    "    \n",
    "    if zero_out_z_coord:\n",
    "        idx_for_projection = np.arange(0,2)\n",
    "    else:\n",
    "        idx_for_projection = np.arange(0,3)\n",
    "\n",
    "    if verbose:\n",
    "        print(f\"new vector = {v}\")\n",
    "\n",
    "    #2) Find the magnitude of projection of new point onto upward middle vector non scaled\n",
    "    proj_v,magn = projection(\n",
    "        vector_to_project=v,\n",
    "        line_of_projection=m,\n",
    "        idx_for_projection=idx_for_projection,\n",
    "        verbose=verbose,\n",
    "        return_magnitude=True\n",
    "    )\n",
    "\n",
    "    #3) Use the magnitude of the projection to find the slope of the rotation function\n",
    "    radius_rot = radius_for_rotation_from_proj_magn(magn)\n",
    "    if verbose:\n",
    "        print(f\"radius_rot= {radius_rot}\")\n",
    "\n",
    "    #4) Find the error distance between point and projection distance\n",
    "    proj_er = error_from_projection(\n",
    "        vector_to_project=v,\n",
    "        line_of_projection=m,\n",
    "        idx_for_projection=idx_for_projection,\n",
    "        verbose=False\n",
    "    )\n",
    "\n",
    "    #5) Determine the amount of rotation needed based on radius and error projection magnitude\n",
    "    curr_rotation = rotation_from_proj_error_and_radius(\n",
    "        proj_error = proj_er,\n",
    "        radius_for_rotation = radius_rot,\n",
    "        verbose = False\n",
    "    )\n",
    "\n",
    "    #6) Determine the sign of the rotation\n",
    "    if zero_out_z_coord:\n",
    "        m_perp = perpendicular_vec_2D(m[idx_for_projection])\n",
    "        rotation_sign = np.sign(m_perp @ proj_er)\n",
    "    else:\n",
    "        rotation_sign = None\n",
    "\n",
    "    if verbose:\n",
    "        print(f\"rotation_sign = {rotation_sign}\")\n",
    "        print(f\"curr_rotation = {curr_rotation}\")\n",
    "    \n",
    "    return curr_rotation*rotation_sign\n",
    "\n",
    "def rotation_from_soma_center(soma_center,\n",
    "                             verbose = False,\n",
    "                             **kwargs):\n",
    "    \"\"\"\n",
    "    Purpose: To get the amout r tation necessary from soma\n",
    "    center of neuron\n",
    "    \n",
    "    \"\"\"\n",
    "    soma_center = np.array(soma_center).reshape(-1)\n",
    "    rotation = rotation_signed_from_middle_vector(soma_center,\n",
    "                                                     verbose = verbose,\n",
    "                                                     **kwargs)\n",
    "    if verbose:\n",
    "        print(f\"rotation = {rotation}\")\n",
    "    return rotation\n",
    "\n",
    "def aligning_matrix_3D_linalg(starting_vector,target_vector):\n",
    "    \"\"\"\n",
    "    Derivation from here: \n",
    "    https://math.stackexchange.com/questions/180418/calculate-rotation-matrix-to-align-vector-a-to-vector-b-in-3d\n",
    "\n",
    "    \n",
    "    Will create a matrix that will move the vector starting_vector to be aligned with vector target_vector\n",
    "    \"\"\"\n",
    "    upward_vector = starting_vector\n",
    "    microns_top_vector = target_vector\n",
    "\n",
    "\n",
    "    c = microns_top_vector @ upward_vector\n",
    "    v = np.cross(upward_vector,microns_top_vector)\n",
    "    \n",
    "    vp = np.array([[0,-v[2],v[1]],[v[2],0,-v[0]],[-v[1],v[0],0]])\n",
    "\n",
    "    R = np.eye(3,3) + vp + (vp @ vp)*(1 /(1-c))\n",
    "    R[:2,:2] = R[:2,:2]*-1\n",
    "    return R\n",
    "\n",
    "top_of_layer_vector =  np.array([0,-1,0])\n",
    "def aligning_matrix_3D(upward_vector=align_vector,#upward_vector_middle,\n",
    "                target_vector = top_of_layer_vector,\n",
    "                       rotation = None,\n",
    "                       verbose = False,\n",
    "                      ):\n",
    "    \"\"\"\n",
    "    Will come up with an alignment matrix\n",
    "    \"\"\"\n",
    "    upward_vector_new = upward_vector.copy()\n",
    "    \n",
    "    if rotation is not None:\n",
    "        if verbose:\n",
    "            print(f\"upward_vector_new before = {upward_vector_new}\")\n",
    "        upward_vector_new[:2] = rotation_matrix_2D(rotation) @ upward_vector_new[:2]\n",
    "        if verbose:\n",
    "            print(f\"upward_vector_new AFTER = {upward_vector_new}\")\n",
    "    return aligning_matrix_3D_linalg(upward_vector_new,target_vector)\n",
    "\n",
    "def align_matrix_from_rotation(upward_vector=None,\n",
    "                              rotation=None,\n",
    "                              **kwargs):\n",
    "    if upward_vector is not None:\n",
    "        kwargs[\"upward_vector\"] = upward_vector\n",
    "    if rotation is not None:\n",
    "        kwargs[\"rotation\"] = rotation\n",
    "    return aligning_matrix_3D(**kwargs)\n",
    "\n",
    "def align_array(\n",
    "    array,\n",
    "    soma_center=None,\n",
    "    rotation = None,\n",
    "    align_matrix = None,\n",
    "    verbose = False,\n",
    "    **kwargs\n",
    "    ):\n",
    "    #print(f\"verbose align_array_from_soma_coordinate = {verbose}\")\n",
    "    \"\"\"\n",
    "    Purpose: Will align a coordinate or skeleton\n",
    "    (or any array) with the rotation matrix\n",
    "    determined from the soam center\n",
    "    \"\"\"\n",
    "    if len(array) <= 0:\n",
    "        return array\n",
    "    \n",
    "    \n",
    "    curr_shape = array.shape\n",
    "    #verbose = True\n",
    "    \n",
    "    if align_matrix is None:\n",
    "        if rotation is None:\n",
    "            rotation = rotation_from_soma_center(soma_center,\n",
    "                                     verbose = False,\n",
    "                                     **kwargs)\n",
    "            if verbose:\n",
    "                print(f\"rotation = {rotation}\")\n",
    "        \n",
    "    \n",
    "        align_matrix = align_matrix_from_rotation(\n",
    "            rotation = rotation,\n",
    "            verbose = verbose,\n",
    "        )\n",
    "        \n",
    "        if verbose:\n",
    "            print(f\"align_matrix = {align_matrix}\")\n",
    "\n",
    "    new_coords = array.reshape(-1,3) @ align_matrix\n",
    "    new_array = new_coords.reshape(*curr_shape)\n",
    "    \n",
    "    return new_array\n",
    "\n",
    "def unalign_array(array, align_matrix):\n",
    "    inv_matrix = np.linalg.inv(align_matrix)\n",
    "    curr_shape = array.shape\n",
    "\n",
    "    new_coords = array.reshape(-1,3) @ inv_matrix\n",
    "    return new_coords.reshape(*curr_shape)\n",
    "\n",
    "                                      \n",
    "\n",
    "# rotation=rotation_from_soma_center(\n",
    "#                 soma_center = soma_center,\n",
    "#                 verbose = verbose,\n",
    "# )\n",
    "# align_matrix = align_matrix_from_rotation(rotation = rotation)\n",
    "\n",
    "class AlignerH01:\n",
    "    def __init__(self,soma_center=None,segment_id = None):\n",
    "        if soma_center is None:\n",
    "            soma_center = fetcher.fetch_soma_center(segment_id)\n",
    "        soma_center_nm = soma_center*voxel_to_nm_scaling\n",
    "        self.soma_center = soma_center\n",
    "        self.soma_center_nm = soma_center_nm\n",
    "        self._compute_alignment_matrix()\n",
    "\n",
    "    def _compute_alignment_matrix(self):\n",
    "        self.rotation=rotation_from_soma_center(\n",
    "                soma_center = self.soma_center_nm,\n",
    "                verbose = False,\n",
    "        )\n",
    "        self.align_matrix = align_matrix_from_rotation(rotation = self.rotation)\n",
    "        self.unalign_matrix = np.linalg.inv(self.align_matrix)\n",
    "\n",
    "    def _apply_matrix_to_array(self,array,matrix):\n",
    "        curr_shape = array.shape\n",
    "        new_coords = array.reshape(-1,3) @ matrix\n",
    "        return new_coords.reshape(*curr_shape)\n",
    "\n",
    "    def align_array(self,array):\n",
    "        return self._apply_matrix_to_array(array,matrix = self.align_matrix)\n",
    "    def unalign_array(self,array):\n",
    "        return self._apply_matrix_to_array(array,matrix = self.unalign_matrix)\n",
    "        \n"
   ]
  },
  {
   "cell_type": "markdown",
   "id": "7ce1e59c-3e91-47ea-bf6c-002500182f67",
   "metadata": {},
   "source": [
    "# Unaligning skeleton Vertices"
   ]
  },
  {
   "cell_type": "code",
   "execution_count": 20,
   "id": "4e315b5e-019b-4c46-918b-a9d541729115",
   "metadata": {
    "scrolled": true
   },
   "outputs": [
    {
     "data": {
      "text/plain": [
       "array([[2442864.46741534, -688917.62211729,  135389.75607715],\n",
       "       [2443217.91079519, -688862.83280099,  134460.31504024],\n",
       "       [2443475.14031457, -688653.91877222,  133517.04662183],\n",
       "       [2443650.39090776, -688518.42651917,  132543.40996302],\n",
       "       [2443790.95455664, -688470.99752306,  131554.54063436],\n",
       "       [2443968.00682248, -688364.31094322,  130576.36727601],\n",
       "       [2444063.21786902, -688279.44970699,  129587.13772096],\n",
       "       [2443917.57518699, -688179.63176012,  128604.66684484],\n",
       "       [2443918.29967137, -687959.15478577,  127632.52622257],\n",
       "       [2444059.45734671, -687819.83850892,  126653.26451019],\n",
       "       [2444192.0205802 , -687802.42882613,  125662.78888545],\n",
       "       [2444243.90316643, -687843.00780086,  124665.4470035 ],\n",
       "       [2444197.31076117, -687909.73686649,  123668.97518263],\n",
       "       [2444170.09466071, -687917.67050855,  122670.07437749],\n",
       "       [2444214.4353558 , -687815.47443911,  121676.94630648],\n",
       "       [2444259.25558626, -687653.88737341,  120691.37011535],\n",
       "       [2444170.15974504, -687551.17065842,  119702.49813792],\n",
       "       [2444039.99541864, -687615.19151306,  118714.22719039],\n",
       "       [2443992.09674015, -687663.09754774,  117717.64776605],\n",
       "       [2444024.32450432, -687617.36564706,  116719.46123592],\n",
       "       [2444077.95734846, -687645.22532766,  115722.24540147],\n",
       "       [2444146.38073338, -687678.87881588,  114725.94076715],\n",
       "       [2444188.23304572, -687618.62460073,  113728.86878699],\n",
       "       [2444234.40585746, -687487.52094879,  112738.66504758],\n",
       "       [2444304.72114626, -687392.97571697,  111746.325842  ],\n",
       "       [2444371.00813953, -687422.9182952 ,  110749.38135568],\n",
       "       [2444435.41264931, -687453.23747751,  109752.36197333],\n",
       "       [2444508.27466265, -687328.53788805,  108765.11299277],\n",
       "       [2444442.23792894, -687004.96851685,  107823.48002735],\n",
       "       [2444367.97064223, -686642.56265796,  106895.17036244],\n",
       "       [2444339.36512537, -686309.96225403,  105952.56705438],\n",
       "       [2444354.62577255, -686042.05032295,  104991.02019829],\n",
       "       [2444440.6675734 , -685895.91161923,  104005.73971002],\n",
       "       [2444466.40562809, -685790.57372306,  103012.30306654],\n",
       "       [2444529.94485784, -685780.86994279,  102015.46838562],\n",
       "       [2444763.19814444, -685684.57217763,  101048.91881305],\n",
       "       [2444974.75457252, -685562.9920211 ,  100079.46114871],\n",
       "       [2445132.89414649, -685428.23764719,   99101.37809492],\n",
       "       [2445251.13552894, -685222.11353993,   98131.08423814],\n",
       "       [2445274.52945245, -684896.85578978,   97186.17113733],\n",
       "       [2445321.95143857, -684631.3828028 ,   96224.51384205],\n",
       "       [2445466.01859926, -684363.56482548,   95272.22283379],\n",
       "       [2445555.72721556, -684140.7461692 ,   94302.90846349],\n",
       "       [2445659.96221968, -684073.58191848,   93311.14396885],\n",
       "       [2445797.96370134, -683931.78707676,   92332.78830252],\n",
       "       [2445939.99205831, -683666.10440498,   91379.31096358],\n",
       "       [2446088.64044633, -683522.50777706,   90403.41426631],\n",
       "       [2446226.68262261, -683537.26289042,   89413.24381212],\n",
       "       [2446350.85972718, -683492.44361384,   88422.30987736],\n",
       "       [2446567.70595582, -683270.72017847,   87477.06369944],\n",
       "       [2446670.95760575, -682821.06060883,   86595.27718108],\n",
       "       [2446356.04543082, -682203.18100023,   85890.84494809],\n",
       "       [2446260.73168866, -681585.14319851,   85185.84422903],\n",
       "       [2446616.04554106, -681021.45209838,   84440.18719665],\n",
       "       [2446971.35939347, -680457.76099826,   83694.53016428],\n",
       "       [2446971.35939347, -680457.76099826,   83694.53016428],\n",
       "       [2447081.62800992, -681160.39562531,   83453.85342642],\n",
       "       [2447345.63835092, -682083.49553442,   83227.23146891],\n",
       "       [2447810.73541504, -682512.16231125,   82482.34754294],\n",
       "       [2448099.43836881, -682690.61031738,   81543.38252353],\n",
       "       [2448259.0159351 , -682865.15658562,   80572.31973018],\n",
       "       [2448505.61866887, -682945.5084022 ,   79608.80957301],\n",
       "       [2448966.41418122, -682921.27682042,   78723.94634299],\n",
       "       [2449454.77458656, -682943.07564405,   77853.08134994],\n",
       "       [2449922.13429381, -682995.34775888,   76971.4038785 ],\n",
       "       [2450458.08396004, -683009.95655443,   76127.86743529],\n",
       "       [2450865.66272835, -683198.7100404 ,   75237.52120884],\n",
       "       [2451167.84443035, -683357.03194479,   74298.4448117 ],\n",
       "       [2451648.32820605, -683515.83439839,   73438.47874461],\n",
       "       [2452349.89376492, -683841.84977183,   72845.13365438],\n",
       "       [2453008.98484454, -684559.89506536,   73010.61902472],\n",
       "       [2452718.06401139, -684859.50281067,   72397.13769569],\n",
       "       [2452176.69264307, -685043.20754559,   71576.66855432],\n",
       "       [2451806.07781559, -685082.94023804,   70351.1393033 ],\n",
       "       [2451806.07781559, -685082.94023804,   70351.1393033 ],\n",
       "       [2452712.59574381, -684679.38197053,   70415.13635497],\n",
       "       [2453496.8397158 , -684658.79770217,   69859.76281479],\n",
       "       [2453947.83428957, -684841.64468551,   68987.89143777],\n",
       "       [2454450.49183778, -685288.77240716,   68265.95410123],\n",
       "       [2455470.17994919, -685808.16357378,   68219.4468727 ]])"
      ]
     },
     "execution_count": 20,
     "metadata": {},
     "output_type": "execute_result"
    }
   ],
   "source": [
    "sk_points = G.nodes['L0_7']['skeleton_data']\n",
    "sk_points"
   ]
  },
  {
   "cell_type": "code",
   "execution_count": 21,
   "id": "9f1c81cd-7768-4e17-9a6b-9dc5ee465169",
   "metadata": {},
   "outputs": [
    {
     "data": {
      "text/plain": [
       "<__main__.AlignerH01 at 0x7ff61c23d9a0>"
      ]
     },
     "execution_count": 21,
     "metadata": {},
     "output_type": "execute_result"
    }
   ],
   "source": [
    "align_obj = AlignerH01(segment_id=segment_id)\n",
    "align_obj"
   ]
  },
  {
   "cell_type": "code",
   "execution_count": 22,
   "id": "4315a91d-3c69-4f63-9d2d-72f7f7e578be",
   "metadata": {
    "scrolled": true
   },
   "outputs": [
    {
     "data": {
      "text/plain": [
       "array([[2463657.97799424,  610396.56796374,  135389.75607715],\n",
       "       [2463937.98214483,  610619.10284569,  134460.31504024],\n",
       "       [2464058.10291689,  610927.94439471,  133517.04662183],\n",
       "       [2464143.32699318,  611132.41390395,  132543.40996302],\n",
       "       [2464241.99455762,  611243.19459644,  131554.54063436],\n",
       "       [2464343.04069211,  611423.52543655,  130576.36727601],\n",
       "       [2464383.77366195,  611544.38650861,  129587.13772096],\n",
       "       [2464207.81721259,  611559.0406123 ,  128604.66684484],\n",
       "       [2464099.32818891,  611750.98006929,  127632.52622257],\n",
       "       [2464153.03503448,  611941.89913831,  126653.26451019],\n",
       "       [2464259.60790235,  612022.63532978,  125662.78888545],\n",
       "       [2464324.77403349,  612013.05245423,  124665.4470035 ],\n",
       "       [2464317.31368341,  611932.00947848,  123668.97518263],\n",
       "       [2464297.59109183,  611911.64582898,  122670.07437749],\n",
       "       [2464285.54150034,  612022.39302663,  121676.94630648],\n",
       "       [2464244.51477893,  612184.98466949,  120691.37011535],\n",
       "       [2464116.2593877 ,  612230.14380991,  119702.49813792],\n",
       "       [2464034.83984275,  612110.0926525 ,  118714.22719039],\n",
       "       [2464016.92851946,  612044.75922862,  117717.64776605],\n",
       "       [2464022.29880786,  612100.44760868,  116719.46123592],\n",
       "       [2464082.69076684,  612102.78325378,  115722.24540147],\n",
       "       [2464158.80226737,  612107.40457791,  114725.94076715],\n",
       "       [2464165.3483047 ,  612180.47533912,  113728.86878699],\n",
       "       [2464140.58375685,  612317.24819529,  112738.66504758],\n",
       "       [2464154.89104129,  612434.20264357,  111746.325842  ],\n",
       "       [2464227.3095441 ,  612440.99117581,  110749.38135568],\n",
       "       [2464298.27867389,  612446.52078282,  109752.36197333],\n",
       "       [2464299.87489769,  612590.93793437,  108765.11299277],\n",
       "       [2464082.3519604 ,  612839.41683713,  107823.48002735],\n",
       "       [2463838.45620944,  613117.56878411,  106895.17036244],\n",
       "       [2463648.98904889,  613392.42057083,  105952.56705438],\n",
       "       [2463529.65452578,  613632.77232387,  104991.02019829],\n",
       "       [2463532.09251683,  613802.34168957,  104005.73971002],\n",
       "       [2463502.32342378,  613906.61211437,  103012.30306654],\n",
       "       [2463552.73249728,  613946.49096307,  102015.46838562],\n",
       "       [2463707.75548963,  614145.60959645,  101048.91881305],\n",
       "       [2463831.41247822,  614355.95885062,  100079.46114871],\n",
       "       [2463902.13332541,  614551.31859564,   99101.37809492],\n",
       "       [2463902.86276637,  614788.94780831,   98131.08423814],\n",
       "       [2463762.2139422 ,  615083.15486637,   97186.17113733],\n",
       "       [2463672.03272261,  615337.30463063,   96224.51384205],\n",
       "       [2463664.66961645,  615641.32371693,   95272.22283379],\n",
       "       [2463632.34336997,  615879.33801473,   94302.90846349],\n",
       "       [2463689.67620191,  615989.28763852,   93311.14396885],\n",
       "       [2463739.41381746,  616180.79836287,   92332.78830252],\n",
       "       [2463731.3359229 ,  616481.95295474,   91379.31096358],\n",
       "       [2463789.43330274,  616680.29869152,   90403.41426631],\n",
       "       [2463916.68604833,  616735.79729925,   89413.24381212],\n",
       "       [2464002.40631973,  616836.20027107,   88422.30987736],\n",
       "       [2464081.09686555,  617136.18588947,   87477.06369944],\n",
       "       [2463948.27048088,  617578.01367656,   86595.27718108],\n",
       "       [2463368.829987  ,  617959.05648986,   85890.84494809],\n",
       "       [2462980.12869653,  618448.92051098,   85185.84422903],\n",
       "       [2463009.89228973,  619114.58539642,   84440.18719665],\n",
       "       [2463039.65588293,  619780.25028187,   83694.53016428],\n",
       "       [2463039.65588293,  619780.25028187,   83694.53016428],\n",
       "       [2463483.22073297,  619224.27830885,   83453.85342642],\n",
       "       [2464169.49043024,  618552.82551913,   83227.23146891],\n",
       "       [2464785.78703815,  618410.52655661,   82482.34754294],\n",
       "       [2465124.96966343,  618398.35122943,   81543.38252353],\n",
       "       [2465350.01923984,  618325.65948135,   80572.31973018],\n",
       "       [2465604.06956311,  618377.88743534,   79608.80957301],\n",
       "       [2465992.47974361,  618627.00029245,   78723.94634299],\n",
       "       [2466427.62350371,  618849.75799405,   77853.08134994],\n",
       "       [2466859.60080616,  619035.64261051,   76971.4038785 ],\n",
       "       [2467332.53820767,  619288.20089995,   76127.86743529],\n",
       "       [2467780.11697763,  619325.9048139 ,   75237.52120884],\n",
       "       [2468121.0509853 ,  619337.88873574,   74298.4448117 ],\n",
       "       [2468617.15633355,  619437.70042647,   73438.47874461],\n",
       "       [2469388.12520613,  619501.63228931,   72845.13365438],\n",
       "       [2470316.2099867 ,  619203.89283935,   73010.61902472],\n",
       "       [2470211.69971252,  618799.5695243 ,   72397.13769569],\n",
       "       [2469832.20060127,  618372.00569494,   71576.66855432],\n",
       "       [2469529.82369103,  618154.05559064,   70351.1393033 ],\n",
       "       [2469529.82369103,  618154.05559064,   70351.1393033 ],\n",
       "       [2470117.80264401,  618953.37706987,   70415.13635497],\n",
       "       [2470789.07472019,  619359.40188282,   69859.76281479],\n",
       "       [2471271.45589909,  619423.72555183,   68987.89143777],\n",
       "       [2471929.52694998,  619283.97461709,   68265.95410123],\n",
       "       [2473072.63033159,  619337.3201864 ,   68219.4468727 ]])"
      ]
     },
     "execution_count": 22,
     "metadata": {},
     "output_type": "execute_result"
    }
   ],
   "source": [
    "sk_points_unaligned = align_obj.unalign_array(sk_points)\n",
    "sk_points_unaligned"
   ]
  },
  {
   "cell_type": "code",
   "execution_count": 25,
   "id": "14dc2139-4e83-4c03-8683-2820453451b2",
   "metadata": {},
   "outputs": [
    {
     "data": {
      "text/plain": [
       "array([[ 0.86893829, -0.49492039,  0.        ],\n",
       "       [ 0.49492039,  0.86893829,  0.        ],\n",
       "       [ 0.        ,  0.        ,  1.        ]])"
      ]
     },
     "execution_count": 25,
     "metadata": {},
     "output_type": "execute_result"
    }
   ],
   "source": [
    "align_obj.align_matrix"
   ]
  },
  {
   "cell_type": "code",
   "execution_count": 23,
   "id": "ea6b505b-9f9d-4768-b4bc-e4342a427e68",
   "metadata": {},
   "outputs": [
    {
     "data": {
      "text/plain": [
       "'\\ncorrect alignment matrix (pulled from neuron object)\\n------------------------\\narray([[ 0.8689366 , -0.49492336,  0.        ],\\n       [ 0.49492336,  0.8689366 ,  0.        ],\\n       [ 0.        ,  0.        ,  1.        ]])\\n'"
      ]
     },
     "execution_count": 23,
     "metadata": {},
     "output_type": "execute_result"
    }
   ],
   "source": [
    "\"\"\"\n",
    "correct alignment matrix (pulled from neuron object)\n",
    "------------------------\n",
    "array([[ 0.8689366 , -0.49492336,  0.        ],\n",
    "       [ 0.49492336,  0.8689366 ,  0.        ],\n",
    "       [ 0.        ,  0.        ,  1.        ]])\n",
    "\"\"\""
   ]
  },
  {
   "cell_type": "markdown",
   "id": "0e4d540a-f9b3-4bf4-89d1-c0f6b4484d26",
   "metadata": {},
   "source": [
    "# Plotting to verify correct unalignment"
   ]
  },
  {
   "cell_type": "code",
   "execution_count": 24,
   "id": "bb4a9f95-8312-4db4-8793-ec92ec756f3e",
   "metadata": {},
   "outputs": [
    {
     "data": {
      "application/vnd.jupyter.widget-view+json": {
       "model_id": "97e5115f4a7f4d8e898b0e105bbfa99c",
       "version_major": 2,
       "version_minor": 0
      },
      "text/plain": [
       "HBox(children=(FloatSlider(value=0.3, description='Size', max=3.0), Dropdown(description='Geo', index=3, optio…"
      ]
     },
     "metadata": {},
     "output_type": "display_data"
    },
    {
     "data": {
      "application/vnd.jupyter.widget-view+json": {
       "model_id": "09207fdd52744b21acfe5b429e32fea7",
       "version_major": 2,
       "version_minor": 0
      },
      "text/plain": [
       "Container(figure=Figure(box_center=[0.5, 0.5, 0.5], box_size=[1.0, 1.0, 1.0], camera=PerspectiveCamera(fov=45.…"
      ]
     },
     "metadata": {},
     "output_type": "display_data"
    }
   ],
   "source": [
    "try:\n",
    "    from datasci_tools import ipyvolume_utils as ipvu\n",
    "    ipvu.plot_objects(\n",
    "        main_skeleton=proofread_skeleton,\n",
    "        scatters=[sk_points_unaligned]\n",
    "    )\n",
    "except:\n",
    "    print(f\"Need datasci_stdlib_tools installed to plot\")"
   ]
  },
  {
   "cell_type": "code",
   "execution_count": null,
   "id": "3cca6ca2-1bdd-4969-817c-2f6a060117ce",
   "metadata": {},
   "outputs": [],
   "source": []
  },
  {
   "cell_type": "code",
   "execution_count": null,
   "id": "319ab4ec-bfc8-4656-ac2e-d49cbdc6b2d7",
   "metadata": {},
   "outputs": [],
   "source": []
  }
 ],
 "metadata": {
  "kernelspec": {
   "display_name": "Python 3 (ipykernel)",
   "language": "python",
   "name": "python3"
  },
  "language_info": {
   "codemirror_mode": {
    "name": "ipython",
    "version": 3
   },
   "file_extension": ".py",
   "mimetype": "text/x-python",
   "name": "python",
   "nbconvert_exporter": "python",
   "pygments_lexer": "ipython3",
   "version": "3.8.0"
  }
 },
 "nbformat": 4,
 "nbformat_minor": 5
}
